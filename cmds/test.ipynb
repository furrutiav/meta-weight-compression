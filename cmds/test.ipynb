{
 "cells": [
  {
   "cell_type": "code",
   "execution_count": 1,
   "id": "0e4ed7b3",
   "metadata": {},
   "outputs": [
    {
     "name": "stderr",
     "output_type": "stream",
     "text": [
      "/home/furrutia/.local/lib/python3.10/site-packages/tqdm/auto.py:21: TqdmWarning: IProgress not found. Please update jupyter and ipywidgets. See https://ipywidgets.readthedocs.io/en/stable/user_install.html\n",
      "  from .autonotebook import tqdm as notebook_tqdm\n",
      "Loading checkpoint shards: 100%|██████████| 2/2 [00:03<00:00,  1.62s/it]\n"
     ]
    },
    {
     "data": {
      "text/plain": [
       "Gemma2ForCausalLM(\n",
       "  (model): Gemma2Model(\n",
       "    (embed_tokens): Embedding(256000, 2304, padding_idx=0)\n",
       "    (layers): ModuleList(\n",
       "      (0-25): 26 x Gemma2DecoderLayer(\n",
       "        (self_attn): Gemma2Attention(\n",
       "          (q_proj): Linear(in_features=2304, out_features=2048, bias=False)\n",
       "          (k_proj): Linear(in_features=2304, out_features=1024, bias=False)\n",
       "          (v_proj): Linear(in_features=2304, out_features=1024, bias=False)\n",
       "          (o_proj): Linear(in_features=2048, out_features=2304, bias=False)\n",
       "        )\n",
       "        (mlp): Gemma2MLP(\n",
       "          (gate_proj): Linear(in_features=2304, out_features=9216, bias=False)\n",
       "          (up_proj): Linear(in_features=2304, out_features=9216, bias=False)\n",
       "          (down_proj): Linear(in_features=9216, out_features=2304, bias=False)\n",
       "          (act_fn): PytorchGELUTanh()\n",
       "        )\n",
       "        (input_layernorm): Gemma2RMSNorm((2304,), eps=1e-06)\n",
       "        (post_attention_layernorm): Gemma2RMSNorm((2304,), eps=1e-06)\n",
       "        (pre_feedforward_layernorm): Gemma2RMSNorm((2304,), eps=1e-06)\n",
       "        (post_feedforward_layernorm): Gemma2RMSNorm((2304,), eps=1e-06)\n",
       "      )\n",
       "    )\n",
       "    (norm): Gemma2RMSNorm((2304,), eps=1e-06)\n",
       "    (rotary_emb): Gemma2RotaryEmbedding()\n",
       "  )\n",
       "  (lm_head): Linear(in_features=2304, out_features=256000, bias=False)\n",
       ")"
      ]
     },
     "execution_count": 1,
     "metadata": {},
     "output_type": "execute_result"
    }
   ],
   "source": [
    "from transformers import AutoModelForCausalLM, AutoTokenizer\n",
    "\n",
    "model_it_name = \"google/gemma-2-2b-it\"\n",
    "model_it = AutoModelForCausalLM.from_pretrained(model_it_name, device_map=\"cuda:0\")\n",
    "model_it.eval()"
   ]
  },
  {
   "cell_type": "code",
   "execution_count": 2,
   "id": "c1e3341e",
   "metadata": {},
   "outputs": [
    {
     "name": "stderr",
     "output_type": "stream",
     "text": [
      "Loading checkpoint shards: 100%|██████████| 3/3 [00:07<00:00,  2.51s/it]\n"
     ]
    },
    {
     "data": {
      "text/plain": [
       "Gemma2ForCausalLM(\n",
       "  (model): Gemma2Model(\n",
       "    (embed_tokens): Embedding(256000, 2304, padding_idx=0)\n",
       "    (layers): ModuleList(\n",
       "      (0-25): 26 x Gemma2DecoderLayer(\n",
       "        (self_attn): Gemma2Attention(\n",
       "          (q_proj): Linear(in_features=2304, out_features=2048, bias=False)\n",
       "          (k_proj): Linear(in_features=2304, out_features=1024, bias=False)\n",
       "          (v_proj): Linear(in_features=2304, out_features=1024, bias=False)\n",
       "          (o_proj): Linear(in_features=2048, out_features=2304, bias=False)\n",
       "        )\n",
       "        (mlp): Gemma2MLP(\n",
       "          (gate_proj): Linear(in_features=2304, out_features=9216, bias=False)\n",
       "          (up_proj): Linear(in_features=2304, out_features=9216, bias=False)\n",
       "          (down_proj): Linear(in_features=9216, out_features=2304, bias=False)\n",
       "          (act_fn): PytorchGELUTanh()\n",
       "        )\n",
       "        (input_layernorm): Gemma2RMSNorm((2304,), eps=1e-06)\n",
       "        (post_attention_layernorm): Gemma2RMSNorm((2304,), eps=1e-06)\n",
       "        (pre_feedforward_layernorm): Gemma2RMSNorm((2304,), eps=1e-06)\n",
       "        (post_feedforward_layernorm): Gemma2RMSNorm((2304,), eps=1e-06)\n",
       "      )\n",
       "    )\n",
       "    (norm): Gemma2RMSNorm((2304,), eps=1e-06)\n",
       "    (rotary_emb): Gemma2RotaryEmbedding()\n",
       "  )\n",
       "  (lm_head): Linear(in_features=2304, out_features=256000, bias=False)\n",
       ")"
      ]
     },
     "execution_count": 2,
     "metadata": {},
     "output_type": "execute_result"
    }
   ],
   "source": [
    "from transformers import AutoModelForCausalLM, AutoTokenizer\n",
    "\n",
    "model_base_name = \"google/gemma-2-2b\"\n",
    "model_base = AutoModelForCausalLM.from_pretrained(model_base_name, device_map=\"cuda:1\")\n",
    "model_base.train()"
   ]
  },
  {
   "cell_type": "code",
   "execution_count": 3,
   "id": "a25a289b",
   "metadata": {},
   "outputs": [],
   "source": [
    "mlp_it = model_it.model.layers[0].mlp\n",
    "mlp_it_parameters = {\n",
    "    name: param\n",
    "    for name, param in mlp_it.named_parameters()\n",
    "}"
   ]
  },
  {
   "cell_type": "code",
   "execution_count": 4,
   "id": "7b8b9cb1",
   "metadata": {},
   "outputs": [],
   "source": [
    "mlp_base = model_base.model.layers[0].mlp\n",
    "mlp_base_parameters = {\n",
    "    name: param\n",
    "    for name, param in mlp_base.named_parameters()\n",
    "}"
   ]
  },
  {
   "cell_type": "code",
   "execution_count": 5,
   "id": "3f0cfdc0",
   "metadata": {},
   "outputs": [
    {
     "data": {
      "text/plain": [
       "dict_keys(['gate_proj.weight', 'up_proj.weight', 'down_proj.weight'])"
      ]
     },
     "execution_count": 5,
     "metadata": {},
     "output_type": "execute_result"
    }
   ],
   "source": [
    "mlp_it_parameters.keys()"
   ]
  },
  {
   "cell_type": "code",
   "execution_count": 6,
   "id": "2b9a45b4",
   "metadata": {},
   "outputs": [
    {
     "data": {
      "text/plain": [
       "tensor([[ 5.0586e-04, -1.4684e-04,  4.5552e-04,  ...,  4.6315e-04,\n",
       "          5.9772e-04,  4.8981e-04],\n",
       "        [ 1.4561e-04,  5.7714e-04, -4.0439e-04,  ...,  5.4814e-04,\n",
       "          4.9119e-04, -3.1594e-04],\n",
       "        [ 1.2752e-03,  1.9519e-04, -1.7282e-04,  ...,  1.2237e-04,\n",
       "          1.7962e-04,  3.4015e-05],\n",
       "        ...,\n",
       "        [ 3.8818e-04,  3.3716e-04, -1.9398e-04,  ...,  3.8712e-04,\n",
       "          8.1834e-04, -3.2367e-04],\n",
       "        [ 1.1246e-04, -3.3293e-04,  1.0031e-04,  ...,  4.4614e-04,\n",
       "          1.0804e-04, -7.1803e-04],\n",
       "        [-1.1373e-03, -6.9686e-04,  7.8780e-04,  ...,  9.9339e-04,\n",
       "         -7.4076e-04, -8.7144e-04]], device='cuda:1', grad_fn=<SubBackward0>)"
      ]
     },
     "execution_count": 6,
     "metadata": {},
     "output_type": "execute_result"
    }
   ],
   "source": [
    "param_name = \"down_proj.weight\"\n",
    "common_gpu = \"cuda:1\"\n",
    "dW = mlp_it_parameters[param_name].to(common_gpu)- mlp_base_parameters[param_name].to(common_gpu)\n",
    "dW"
   ]
  },
  {
   "cell_type": "code",
   "execution_count": 7,
   "id": "9709aa2c",
   "metadata": {},
   "outputs": [
    {
     "data": {
      "image/png": "[encoded data removed]",
      "text/plain": [
       "<Figure size 640x480 with 1 Axes>"
      ]
     },
     "metadata": {},
     "output_type": "display_data"
    }
   ],
   "source": [
    "import matplotlib.pyplot as plt\n",
    "\n",
    "plt.hist(dW.cpu().detach().numpy().ravel(), bins=128);"
   ]
  },
  {
   "cell_type": "code",
   "execution_count": 45,
   "id": "ee359979",
   "metadata": {},
   "outputs": [],
   "source": [
    "import torch\n",
    "import torch.nn as nn\n",
    "import torch.nn.init as init\n",
    "\n",
    "class LowRankIO(nn.Module):\n",
    "    def __init__(self, device, batch_size, hidden_size, rank, init_method='xavier'):\n",
    "        super().__init__()\n",
    "        self.device = device\n",
    "        self.batch_size = batch_size\n",
    "        self.hidden_size = hidden_size\n",
    "        self.rank = rank\n",
    "        self.init_method = init_method\n",
    "\n",
    "        # Define low-rank parameters\n",
    "        self.A = nn.Parameter(torch.empty(batch_size, rank))\n",
    "        self.B = nn.Parameter(torch.empty(rank, hidden_size))\n",
    "        self.C = nn.Parameter(torch.empty(batch_size, rank))\n",
    "        self.D = nn.Parameter(torch.empty(rank, hidden_size))\n",
    "\n",
    "        self._initialize_parameters()\n",
    "\n",
    "    def _initialize_parameters(self):\n",
    "        if self.init_method == 'xavier':\n",
    "            init.xavier_uniform_(self.A)\n",
    "            init.xavier_uniform_(self.B)\n",
    "            init.xavier_uniform_(self.C)\n",
    "            init.xavier_uniform_(self.D)\n",
    "        elif self.init_method == 'kaiming':\n",
    "            init.kaiming_uniform_(self.A, a=5*.5)\n",
    "            init.kaiming_uniform_(self.B, a=5*.5)\n",
    "            init.kaiming_uniform_(self.C, a=5*.5)\n",
    "            init.kaiming_uniform_(self.D, a=5*.5)\n",
    "        elif self.init_method == 'normal':\n",
    "            init.normal_(self.A, mean=0.0, std=0.02)\n",
    "            init.normal_(self.B, mean=0.0, std=0.02)\n",
    "            init.normal_(self.C, mean=0.0, std=0.02)\n",
    "            init.normal_(self.D, mean=0.0, std=0.02)\n",
    "        else:\n",
    "            raise ValueError(f\"Unsupported init_method: {self.init_method}\")\n",
    "\n",
    "    def forward(self):\n",
    "        low_rank_input = self.A @ self.B       # shape: (batch_size, hidden_size)\n",
    "        low_rank_output = self.C @ self.D      # shape: (batch_size, hidden_size)\n",
    "        return low_rank_input.to(self.device), low_rank_output.to(self.device)\n"
   ]
  },
  {
   "cell_type": "code",
   "execution_count": 114,
   "id": "ce0a1a4b",
   "metadata": {},
   "outputs": [
    {
     "data": {
      "text/plain": [
       "dict_keys(['gate_proj.weight', 'up_proj.weight', 'down_proj.weight'])"
      ]
     },
     "execution_count": 114,
     "metadata": {},
     "output_type": "execute_result"
    }
   ],
   "source": [
    "mlp_it_parameters.keys()"
   ]
  },
  {
   "cell_type": "code",
   "execution_count": 135,
   "id": "6404691f",
   "metadata": {},
   "outputs": [
    {
     "name": "stdout",
     "output_type": "stream",
     "text": [
      "Grad stats: tensor(0.0002, device='cuda:1', grad_fn=<MedianBackward0>) tensor(0.0004, device='cuda:1', grad_fn=<MedianBackward0>)\n",
      "Epoch 100/1000 | MSELoss (scaled): 0.316040 | CosSim: 0.2271 | Prop. Same Sign: 0.5591 | Outer Loss: 1.161973\n",
      "Epoch 200/1000 | MSELoss (scaled): 0.314357 | CosSim: 0.2379 | Prop. Same Sign: 0.5634 | Outer Loss: 1.141760\n",
      "Epoch 300/1000 | MSELoss (scaled): 0.313666 | CosSim: 0.2423 | Prop. Same Sign: 0.5648 | Outer Loss: 1.133898\n",
      "Epoch 400/1000 | MSELoss (scaled): 0.313286 | CosSim: 0.2446 | Prop. Same Sign: 0.5656 | Outer Loss: 1.129648\n",
      "Epoch 500/1000 | MSELoss (scaled): 0.313156 | CosSim: 0.2454 | Prop. Same Sign: 0.5660 | Outer Loss: 1.128053\n",
      "Epoch 600/1000 | MSELoss (scaled): 0.313228 | CosSim: 0.2450 | Prop. Same Sign: 0.5661 | Outer Loss: 1.128635\n",
      "Epoch 700/1000 | MSELoss (scaled): 0.312945 | CosSim: 0.2467 | Prop. Same Sign: 0.5665 | Outer Loss: 1.125617\n",
      "Epoch 800/1000 | MSELoss (scaled): 0.312856 | CosSim: 0.2472 | Prop. Same Sign: 0.5667 | Outer Loss: 1.124629\n",
      "Epoch 900/1000 | MSELoss (scaled): 0.312819 | CosSim: 0.2475 | Prop. Same Sign: 0.5668 | Outer Loss: 1.124243\n",
      "Epoch 1000/1000 | MSELoss (scaled): 0.312758 | CosSim: 0.2478 | Prop. Same Sign: 0.5669 | Outer Loss: 1.123589\n"
     ]
    },
    {
     "data": {
      "image/png": "[encoded data removed]",
      "text/plain": [
       "<Figure size 1200x500 with 1 Axes>"
      ]
     },
     "metadata": {},
     "output_type": "display_data"
    }
   ],
   "source": [
    "import torch\n",
    "import torch.nn as nn\n",
    "from torch.optim import AdamW\n",
    "import matplotlib.pyplot as plt\n",
    "import numpy as np\n",
    "\n",
    "# Hyperparameters\n",
    "batch_size = 16\n",
    "hidden_size = model_base.config.hidden_size\n",
    "rank = 32\n",
    "epochs = 1_000#10_000\n",
    "gt_scaler = 1e6\n",
    "loss_scaler = 1e6\n",
    "learning_rate = 5e-3\n",
    "init_method = \"kaiming\"\n",
    "\n",
    "param_name = \"gate_proj.weight\"\n",
    "common_gpu = \"cuda:1\"\n",
    "dW = mlp_it_parameters[param_name].to(common_gpu)- mlp_base_parameters[param_name].to(common_gpu)\n",
    "\n",
    "alpha = 3.0  # Weight for MSE\n",
    "beta = 1.0   # Weight for (1 - CosineSim)\n",
    "gamma = 1.0  # Weight for proportion of same sign\n",
    "\n",
    "# Initialize I/O\n",
    "low_rank_io = LowRankIO(common_gpu, batch_size, hidden_size, rank)\n",
    "low_rank_input, low_rank_output = low_rank_io()\n",
    "\n",
    "# Trainable parameters\n",
    "trainable_parameters = low_rank_io.parameters()\n",
    "\n",
    "# Optimizer\n",
    "optimizer = torch.optim.AdamW(trainable_parameters, lr=learning_rate)\n",
    "\n",
    "# Loss functions\n",
    "inner_criterion = nn.SmoothL1Loss()\n",
    "mse_criterion = nn.MSELoss()\n",
    "target_param = mlp_base_parameters[param_name]\n",
    "\n",
    "# Track losses and metrics\n",
    "loss_history = []\n",
    "mse_history = []\n",
    "cos_sim_history = []\n",
    "same_sign_history = []\n",
    "\n",
    "for epoch in range(epochs):\n",
    "    optimizer.zero_grad()\n",
    "\n",
    "    # Regenerate I/O\n",
    "    low_rank_input, low_rank_output = low_rank_io()\n",
    "    output = mlp_base(low_rank_input)\n",
    "\n",
    "    # Compute inner loss\n",
    "    inner_loss = inner_criterion(output, low_rank_output)\n",
    "\n",
    "    # Compute gradient w.r.t. target_param\n",
    "    grads = torch.autograd.grad(\n",
    "        outputs=inner_loss,\n",
    "        inputs=target_param,\n",
    "        create_graph=True,\n",
    "        retain_graph=True\n",
    "    )[0]\n",
    "\n",
    "    scaled_grads = gt_scaler * grads\n",
    "\n",
    "    # Debug print for gradients stats on first epoch\n",
    "    if epoch == 0:\n",
    "        print(\"Grad stats:\", scaled_grads.abs().median(), dW.abs().median())\n",
    "\n",
    "    # Compute cosine similarity (clamped for numerical safety)\n",
    "    cos_sim = torch.nn.functional.cosine_similarity(scaled_grads.flatten(), dW.flatten(), dim=0)\n",
    "    cos_sim = torch.clamp(cos_sim, -1.0, 1.0)\n",
    "\n",
    "    # Compute proportion of same sign elements\n",
    "    proportion_same_sign = ((scaled_grads * dW) > 0).float().mean().item()\n",
    "\n",
    "    # Compute scaled MSE loss\n",
    "    mse_loss = loss_scaler * mse_criterion(scaled_grads, dW)\n",
    "\n",
    "    # Hybrid outer loss\n",
    "    outer_loss = alpha * mse_loss + beta * (1 - cos_sim) - gamma * proportion_same_sign\n",
    "\n",
    "    # Backward + update\n",
    "    outer_loss.backward()\n",
    "    optimizer.step()\n",
    "\n",
    "    # Log losses\n",
    "    loss_history.append(outer_loss.item())\n",
    "    mse_history.append(mse_loss.item())\n",
    "    cos_sim_history.append(cos_sim.item())\n",
    "    same_sign_history.append(proportion_same_sign)\n",
    "\n",
    "    # Print progress every 100 epochs\n",
    "    if (epoch + 1) % 100 == 0:\n",
    "        print(f\"Epoch {epoch+1}/{epochs} | \"\n",
    "              f\"MSELoss (scaled): {mse_loss.item():.6f} | \"\n",
    "              f\"CosSim: {cos_sim.item():.4f} | \"\n",
    "              f\"Prop. Same Sign: {proportion_same_sign:.4f} | \"\n",
    "              f\"Outer Loss: {outer_loss.item():.6f}\")\n",
    "\n",
    "# Plotting all metrics\n",
    "plt.figure(figsize=(12, 5))\n",
    "plt.plot(loss_history, label='Outer Loss')\n",
    "plt.plot(mse_history, label='MSE Loss (scaled)')\n",
    "plt.plot(cos_sim_history, label='Cosine Similarity')\n",
    "plt.plot(same_sign_history, label='Proportion Same Sign')\n",
    "plt.xlabel('Epoch')\n",
    "plt.ylabel('Value')\n",
    "plt.title('Training Metrics')\n",
    "plt.legend()\n",
    "plt.grid(True)\n",
    "plt.show()"
   ]
  }
 ],
 "metadata": {
  "kernelspec": {
   "display_name": "Python 3",
   "language": "python",
   "name": "python3"
  },
  "language_info": {
   "codemirror_mode": {
    "name": "ipython",
    "version": 3
   },
   "file_extension": ".py",
   "mimetype": "text/x-python",
   "name": "python",
   "nbconvert_exporter": "python",
   "pygments_lexer": "ipython3",
   "version": "3.10.12"
  }
 },
 "nbformat": 4,
 "nbformat_minor": 5
}
